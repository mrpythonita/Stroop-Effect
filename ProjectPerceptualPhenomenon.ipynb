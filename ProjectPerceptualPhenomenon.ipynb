{
 "cells": [
  {
   "cell_type": "markdown",
   "metadata": {},
   "source": [
    "<h1><i>Analyzing the Stroop Effect</i></h1>"
   ]
  },
  {
   "cell_type": "markdown",
   "metadata": {},
   "source": [
    "In psychology, the Stroop effect is a demonstration of interference in the reaction time of a task; it is named after John Ridley Stroop, who first documneted the effect in 1935.\n",
    "In specific, naming the font color of a printed word is an easier and quicker task if word meaning and font color are congruent. If both are printed in red, the average time to say \"RED\" in response to the word 'Green' is greater than the time to say \"RED\" in response to the word 'Mouse'."
   ]
  },
  {
   "cell_type": "markdown",
   "metadata": {},
   "source": [
    "<h2>Table of Contents</h2>"
   ]
  },
  {
   "cell_type": "markdown",
   "metadata": {},
   "source": [
    "<ul>\n",
    "<li><a href=\"#variable\">Variables</a></li>\n",
    "<li><a href=\"#hypothesis\">Hypothesis Testing</a></li>\n",
    "<li><a href=\"#descriptive\">Descriptive Statistics</a></li>\n",
    "<li><a href=\"#visualization\">Visualizations</a></li>\n",
    "<li><a href=\"#conclusions\">Statistical Analysis & Conclusion</a></li>\n",
    "<li><a href=\"#optional\">Optional</a></li>\n",
    "</ul>\n"
   ]
  },
  {
   "cell_type": "markdown",
   "metadata": {},
   "source": [
    "<h2>Loading data and importing modules.</h2>"
   ]
  },
  {
   "cell_type": "code",
   "execution_count": 1,
   "metadata": {},
   "outputs": [],
   "source": [
    "import pandas as pd\n",
    "import numpy as np\n",
    "import scipy.stats as stats\n",
    "import matplotlib.pyplot as plt\n",
    "import seaborn as sns\n",
    "import math\n",
    "data = pd.read_csv('stroopdata.csv')"
   ]
  },
  {
   "cell_type": "markdown",
   "metadata": {},
   "source": [
    "<h2> Defining Variables </h2>\n",
    "<a id=\"#variable\"></a>\n",
    "\n",
    "\n",
    "\n",
    "<p>What is the independent variable? What is the dependent variable?</p>\n"
   ]
  },
  {
   "cell_type": "markdown",
   "metadata": {},
   "source": [
    "<i>An independent variable is the one that it is changed in an experiment to test the effects on the dependent variable; in the example of the Stroop Effect we can define the independent variable as the coloring of the words and the dependent variable as the user reading time.</i>"
   ]
  },
  {
   "cell_type": "markdown",
   "metadata": {},
   "source": [
    "<h2>Hypothesis Testing</h2>\n",
    "<a id='#hypothesis'></a>\n",
    "\n",
    "\n",
    "\n",
    "<p> What is an appropriate set of hypotheses for this task? Specify your null and alternative hypotheses, and clearly define any notation used. Justify your choices.</p>\n"
   ]
  },
  {
   "cell_type": "markdown",
   "metadata": {},
   "source": [
    "<i>The Null Hyphotesis H0 is μ Incongruent = μ Congruent <span>\n",
    "the Alternative Hypothesis H1 is μ Incongruent != μ Congruent</i>"
   ]
  },
  {
   "cell_type": "markdown",
   "metadata": {},
   "source": [
    "<p><b> The sample size is smaller than 30 data points therefore we can use a t-statistic and t-distribution. In specific,the t-test is the most commonly used method to evaluate the differences in means between two groups. The groups can be independent or dependent. We are going to use a paired sample T-test and compare two sample means from the same population regarding the same variable at two different times. </p></b>"
   ]
  },
  {
   "cell_type": "markdown",
   "metadata": {},
   "source": [
    "<h2> Descriptive Statistics </h2>\n",
    "<a href=\"#descriptive\"></a>\n",
    "<p>Report some descriptive statistics regarding this dataset. Include at least one measure of central tendency and at least one measure of variability. The dataset is stored in the file 'stroopdata.csv'.</p>\n"
   ]
  },
  {
   "cell_type": "code",
   "execution_count": 2,
   "metadata": {
    "scrolled": true
   },
   "outputs": [
    {
     "data": {
      "text/html": [
       "<div>\n",
       "<style scoped>\n",
       "    .dataframe tbody tr th:only-of-type {\n",
       "        vertical-align: middle;\n",
       "    }\n",
       "\n",
       "    .dataframe tbody tr th {\n",
       "        vertical-align: top;\n",
       "    }\n",
       "\n",
       "    .dataframe thead th {\n",
       "        text-align: right;\n",
       "    }\n",
       "</style>\n",
       "<table border=\"1\" class=\"dataframe\">\n",
       "  <thead>\n",
       "    <tr style=\"text-align: right;\">\n",
       "      <th></th>\n",
       "      <th>Congruent</th>\n",
       "      <th>Incongruent</th>\n",
       "    </tr>\n",
       "  </thead>\n",
       "  <tbody>\n",
       "    <tr>\n",
       "      <th>count</th>\n",
       "      <td>24.000000</td>\n",
       "      <td>24.000000</td>\n",
       "    </tr>\n",
       "    <tr>\n",
       "      <th>mean</th>\n",
       "      <td>14.051125</td>\n",
       "      <td>22.015917</td>\n",
       "    </tr>\n",
       "    <tr>\n",
       "      <th>std</th>\n",
       "      <td>3.559358</td>\n",
       "      <td>4.797057</td>\n",
       "    </tr>\n",
       "    <tr>\n",
       "      <th>min</th>\n",
       "      <td>8.630000</td>\n",
       "      <td>15.687000</td>\n",
       "    </tr>\n",
       "    <tr>\n",
       "      <th>25%</th>\n",
       "      <td>11.895250</td>\n",
       "      <td>18.716750</td>\n",
       "    </tr>\n",
       "    <tr>\n",
       "      <th>50%</th>\n",
       "      <td>14.356500</td>\n",
       "      <td>21.017500</td>\n",
       "    </tr>\n",
       "    <tr>\n",
       "      <th>75%</th>\n",
       "      <td>16.200750</td>\n",
       "      <td>24.051500</td>\n",
       "    </tr>\n",
       "    <tr>\n",
       "      <th>max</th>\n",
       "      <td>22.328000</td>\n",
       "      <td>35.255000</td>\n",
       "    </tr>\n",
       "  </tbody>\n",
       "</table>\n",
       "</div>"
      ],
      "text/plain": [
       "       Congruent  Incongruent\n",
       "count  24.000000    24.000000\n",
       "mean   14.051125    22.015917\n",
       "std     3.559358     4.797057\n",
       "min     8.630000    15.687000\n",
       "25%    11.895250    18.716750\n",
       "50%    14.356500    21.017500\n",
       "75%    16.200750    24.051500\n",
       "max    22.328000    35.255000"
      ]
     },
     "execution_count": 2,
     "metadata": {},
     "output_type": "execute_result"
    }
   ],
   "source": [
    "data.describe()"
   ]
  },
  {
   "cell_type": "markdown",
   "metadata": {},
   "source": [
    "<p>The mean is a measure of central tendency; the standard deviation is a measure of spread and scores how widely spread the values in the data set are. </p>"
   ]
  },
  {
   "cell_type": "code",
   "execution_count": 3,
   "metadata": {},
   "outputs": [
    {
     "name": "stdout",
     "output_type": "stream",
     "text": [
      "The mean for the congruent group is 14.051125000000004 while the incongruent is 22.01591666666667;the standard deviation for the congruent group is 3.559357957645195 and the incongruent one is 4.797057122469138\n"
     ]
    }
   ],
   "source": [
    "print('The mean for the congruent group is {} while the incongruent is {};the standard deviation for the congruent group is {} and the incongruent one is {}'.format(data['Congruent'].mean(),data['Incongruent'].mean(),data['Congruent'].std(),data['Incongruent'].std()))"
   ]
  },
  {
   "cell_type": "markdown",
   "metadata": {},
   "source": [
    "<p>We are going to add a new column to the dataframe 'observed_diff' to notice the observed difference between the two groups</p>"
   ]
  },
  {
   "cell_type": "code",
   "execution_count": 4,
   "metadata": {},
   "outputs": [
    {
     "data": {
      "text/html": [
       "<div>\n",
       "<style scoped>\n",
       "    .dataframe tbody tr th:only-of-type {\n",
       "        vertical-align: middle;\n",
       "    }\n",
       "\n",
       "    .dataframe tbody tr th {\n",
       "        vertical-align: top;\n",
       "    }\n",
       "\n",
       "    .dataframe thead th {\n",
       "        text-align: right;\n",
       "    }\n",
       "</style>\n",
       "<table border=\"1\" class=\"dataframe\">\n",
       "  <thead>\n",
       "    <tr style=\"text-align: right;\">\n",
       "      <th></th>\n",
       "      <th>Congruent</th>\n",
       "      <th>Incongruent</th>\n",
       "      <th>observed_diff</th>\n",
       "    </tr>\n",
       "  </thead>\n",
       "  <tbody>\n",
       "    <tr>\n",
       "      <th>0</th>\n",
       "      <td>12.079</td>\n",
       "      <td>19.278</td>\n",
       "      <td>-7.199</td>\n",
       "    </tr>\n",
       "    <tr>\n",
       "      <th>1</th>\n",
       "      <td>16.791</td>\n",
       "      <td>18.741</td>\n",
       "      <td>-1.950</td>\n",
       "    </tr>\n",
       "    <tr>\n",
       "      <th>2</th>\n",
       "      <td>9.564</td>\n",
       "      <td>21.214</td>\n",
       "      <td>-11.650</td>\n",
       "    </tr>\n",
       "    <tr>\n",
       "      <th>3</th>\n",
       "      <td>8.630</td>\n",
       "      <td>15.687</td>\n",
       "      <td>-7.057</td>\n",
       "    </tr>\n",
       "    <tr>\n",
       "      <th>4</th>\n",
       "      <td>14.669</td>\n",
       "      <td>22.803</td>\n",
       "      <td>-8.134</td>\n",
       "    </tr>\n",
       "  </tbody>\n",
       "</table>\n",
       "</div>"
      ],
      "text/plain": [
       "   Congruent  Incongruent  observed_diff\n",
       "0     12.079       19.278         -7.199\n",
       "1     16.791       18.741         -1.950\n",
       "2      9.564       21.214        -11.650\n",
       "3      8.630       15.687         -7.057\n",
       "4     14.669       22.803         -8.134"
      ]
     },
     "execution_count": 4,
     "metadata": {},
     "output_type": "execute_result"
    }
   ],
   "source": [
    "data['observed_diff']=data.Congruent-data.Incongruent\n",
    "data.head()"
   ]
  },
  {
   "cell_type": "markdown",
   "metadata": {},
   "source": [
    "<h2> Visualizations </h2>\n",
    "<a href=\"#visualization\"></a>\n",
    "<p> Provide one or two visualizations that show the distribution of the sample data. Write one or two sentences noting what you observe about the plot or plots.</p>"
   ]
  },
  {
   "cell_type": "code",
   "execution_count": 5,
   "metadata": {},
   "outputs": [
    {
     "data": {
      "image/png": "[encoded data removed]",
      "text/plain": [
       "<Figure size 576x720 with 2 Axes>"
      ]
     },
     "metadata": {},
     "output_type": "display_data"
    }
   ],
   "source": [
    "sns.set_style('darkgrid')\n",
    "data[['Congruent','Incongruent']].plot.hist(figsize=(8,10),subplots=True,alpha=0.4);"
   ]
  },
  {
   "cell_type": "code",
   "execution_count": 6,
   "metadata": {},
   "outputs": [
    {
     "data": {
      "image/png": "[encoded data removed]",
      "text/plain": [
       "<Figure size 1080x360 with 2 Axes>"
      ]
     },
     "metadata": {},
     "output_type": "display_data"
    }
   ],
   "source": [
    "colors = dict(boxes='Blue', whiskers='Blue', medians='Orange', caps='Black')\n",
    "data[['Congruent','Incongruent']].plot(kind='box',subplots=True,vert=False,figsize=(15,5),color=colors);"
   ]
  },
  {
   "cell_type": "markdown",
   "metadata": {},
   "source": [
    "<p>Both distributions are right skewed.Also, the visualizations show that the values in the incogruent group are more spreadout; and the incongruent group has outliers.</p>"
   ]
  },
  {
   "cell_type": "markdown",
   "metadata": {},
   "source": [
    "\n",
    "<a href=\"#conclusions\"></a>\n",
    "<h2> Statistical Analysis</h2>\n",
    "<p>Now, perform the statistical test and report your results. What is your confidence level or Type I error associated with your test? What is your conclusion regarding the hypotheses you set up? Did the results match up with your expectations? Hint: Think about what is being measured on each individual, and what statistic best captures how an individual reacts in each environment.</p>"
   ]
  },
  {
   "cell_type": "code",
   "execution_count": 6,
   "metadata": {},
   "outputs": [
    {
     "name": "stdout",
     "output_type": "stream",
     "text": [
      "Sample size N is: 24\n",
      "Aplha threshold is: 0.05\n",
      "Degree of freedom: 23\n",
      "Congruent group mean: 14.051125000000004\n",
      "Incongruent group mean: 22.01591666666667\n",
      "Observed difference between group means: -7.964791666666667 \n"
     ]
    }
   ],
   "source": [
    "print('Sample size N is: {}'.format(data.shape[0]))\n",
    "print('Aplha threshold is: 0.05')\n",
    "print('Degree of freedom: 23')\n",
    "print('Congruent group mean: {}'.format(data['Congruent'].mean()))\n",
    "print('Incongruent group mean: {}'.format(data['Incongruent'].mean()))\n",
    "print('Observed difference between group means: {} '.format(data.observed_diff.mean()))"
   ]
  },
  {
   "cell_type": "markdown",
   "metadata": {},
   "source": [
    "<i> In statistics, point estimation involves the use of sample data to calculate a single value \n",
    "(known as a point estimate or statistic) which is to serve as a \"best guess\" or \"best estimate\" \n",
    "of an unknown population parameter (for example, the population mean). </i>"
   ]
  },
  {
   "cell_type": "code",
   "execution_count": 7,
   "metadata": {},
   "outputs": [
    {
     "data": {
      "text/plain": [
       "-7.964791666666665"
      ]
     },
     "execution_count": 7,
     "metadata": {},
     "output_type": "execute_result"
    }
   ],
   "source": [
    "point_estimation=data['Congruent'].mean() -data['Incongruent'].mean()\n",
    "point_estimation\n"
   ]
  },
  {
   "cell_type": "code",
   "execution_count": 8,
   "metadata": {},
   "outputs": [
    {
     "data": {
      "text/plain": [
       "Ttest_relResult(statistic=-8.020706944109957, pvalue=4.103000585711178e-08)"
      ]
     },
     "execution_count": 8,
     "metadata": {},
     "output_type": "execute_result"
    }
   ],
   "source": [
    "#this is a a dependent t-test for paired samples\n",
    "stats.ttest_rel(a = data['Congruent'], b = data['Incongruent'])"
   ]
  },
  {
   "cell_type": "code",
   "execution_count": 9,
   "metadata": {},
   "outputs": [],
   "source": [
    "t=stats.ttest_rel(a = data['Congruent'], b = data['Incongruent'])[0]"
   ]
  },
  {
   "cell_type": "code",
   "execution_count": 10,
   "metadata": {},
   "outputs": [
    {
     "data": {
      "text/plain": [
       "(-2.8073356837675236, 2.8073356837675236)"
      ]
     },
     "execution_count": 10,
     "metadata": {},
     "output_type": "execute_result"
    }
   ],
   "source": [
    "alpha = 0.005\n",
    "t_critical = stats.t.ppf(q=alpha, df=23)\n",
    "t_critical,-t_critical"
   ]
  },
  {
   "cell_type": "code",
   "execution_count": 11,
   "metadata": {},
   "outputs": [
    {
     "data": {
      "text/plain": [
       "4.103000585711178e-08"
      ]
     },
     "execution_count": 11,
     "metadata": {},
     "output_type": "execute_result"
    }
   ],
   "source": [
    "#pvalue = stats.t.cdf(x = t, df = 23 ) * 2 \n",
    "pvalue=stats.ttest_rel(a = data['Congruent'], b = data['Incongruent'])[1]\n",
    "pvalue"
   ]
  },
  {
   "cell_type": "markdown",
   "metadata": {},
   "source": [
    "<i><b>We are going to assume that H0 is true and the difference in mean between the Incongruent group and the Congruent one is equal to 0, therefore if our t-statistic is in the region of the t-critcal value we can safely reject the null hypothesis H0</i></b>"
   ]
  },
  {
   "cell_type": "code",
   "execution_count": 12,
   "metadata": {},
   "outputs": [
    {
     "data": {
      "text/plain": [
       "<matplotlib.lines.Line2D at 0x2256cc0f828>"
      ]
     },
     "execution_count": 12,
     "metadata": {},
     "output_type": "execute_result"
    },
    {
     "data": {
      "image/png": "[encoded data removed]",
      "text/plain": [
       "<Figure size 936x360 with 1 Axes>"
      ]
     },
     "metadata": {},
     "output_type": "display_data"
    }
   ],
   "source": [
    "s=np.random.standard_t(23, size=10000)\n",
    "fig=plt.figure(figsize=(13,5));\n",
    "plt.hist(s,bins=100,density=True);\n",
    "plt.axvline(s.mean(),color='red');\n",
    "plt.axvline(-t_critical,color='orange');\n",
    "plt.axvline(t_critical,color='orange');\n",
    "plt.axvline(t,color='black')"
   ]
  },
  {
   "cell_type": "markdown",
   "metadata": {},
   "source": [
    "<b><i>With a pvalue <= alpha we can reject the null hypothesis; therefore the difference oberseved between the two groups has statiscal significance. </b></i>"
   ]
  },
  {
   "cell_type": "code",
   "execution_count": 73,
   "metadata": {},
   "outputs": [],
   "source": [
    "diff_mean=[]\n",
    "for value in range(10000):\n",
    "    bootsample=data.sample(27,replace=True)\n",
    "    diff=(bootsample.Congruent-bootsample.Incongruent).mean()\n",
    "    diff_mean.append(diff)\n",
    "obsdiff=np.array(diff_mean)\n"
   ]
  },
  {
   "cell_type": "code",
   "execution_count": 74,
   "metadata": {},
   "outputs": [
    {
     "data": {
      "text/plain": [
       "-0.0013234795576320124"
      ]
     },
     "execution_count": 74,
     "metadata": {},
     "output_type": "execute_result"
    },
    {
     "data": {
      "image/png": "[encoded data removed]",
      "text/plain": [
       "<Figure size 432x288 with 1 Axes>"
      ]
     },
     "metadata": {},
     "output_type": "display_data"
    }
   ],
   "source": [
    "mean_value=data.Congruent.mean()-data.Incongruent.mean()\n",
    "null_vals=np.random.normal(mean_value,obsdiff.std(),10000)\n",
    "plt.hist(null_vals);\n",
    "\n",
    "plt.axvline(np.percentile(null_vals,2.5),color='orange')\n",
    "plt.axvline(np.percentile(null_vals,97.5),color='orange')\n",
    "np.percentile(null_vals,0.5),np.percentile(null_vals,99.5)\n",
    "plt.axvline(mean_value,color='red');\n",
    "null_mean=null_vals.mean()\n",
    "null_mean -mean_value"
   ]
  },
  {
   "cell_type": "code",
   "execution_count": 75,
   "metadata": {},
   "outputs": [
    {
     "data": {
      "text/plain": [
       "0.4968"
      ]
     },
     "execution_count": 75,
     "metadata": {},
     "output_type": "execute_result"
    }
   ],
   "source": [
    "pvalue=(null_vals >obsdiff).mean()#+ (null_vals > mean_value +(mean_value -obsdiff)).mean()\n",
    "pvalue"
   ]
  },
  {
   "cell_type": "markdown",
   "metadata": {},
   "source": [
    " \n",
    "<h2>Optional</h2>\n",
    "<a href=\"#optional\"></a>\n",
    " <p>Optional: What do you think is responsible for the effects observed? Can you think of an alternative or similar task that would result in a similar effect? Some research about the problem will be helpful for thinking about these two questions!</p>"
   ]
  },
  {
   "cell_type": "markdown",
   "metadata": {},
   "source": [
    "<p>There are two main theories used to explain the Stroop effect: <b>Speed of processing theory</b> and <b>Selective attention theory.</b> The experiment we conducted supports the second one.The Stroop effect is a demonstration of the phenomenon that the brain's reaction time slows down when it has to deal with conflicting information. This slowed reaction time happens because of interference, or a processing delay caused by competing or incompatible functions in the brain. </p>\n",
    "<p></p>\n",
    "<p><i><b> An alternative task</i></b> could be to observe if there is any time difference in bilingual people (Italian-English) to spell words containing letters such as A,E,I which have different sounds in the two languages</p> "
   ]
  },
  {
   "cell_type": "markdown",
   "metadata": {},
   "source": [
    "<h2>Reference List</h2>\n"
   ]
  },
  {
   "cell_type": "markdown",
   "metadata": {},
   "source": [
    "<a href='https://www.wisegeek.com/what-is-the-stroop-effect.htm'/>What is the stroop effect</a>\n",
    "<p></p>\n",
    "\n",
    "<a href='https://docs.scipy.org/doc/numpy-1.15.1/reference/generated/numpy.std.html'> Generating a t-distribution</a>\n",
    "<p></p>\n",
    "<a href='https://en.wikipedia.org/wiki/Point_estimation'>Point of Estimation</a>\n",
    "<p></p>\n",
    "<a href='https://github.com/anoru/Analyzing-the-Stroop-Effect/blob/master/StroopEffect.ipynb'>Git-hub repositorie</a>"
   ]
  },
  {
   "cell_type": "code",
   "execution_count": null,
   "metadata": {},
   "outputs": [],
   "source": []
  }
 ],
 "metadata": {
  "kernelspec": {
   "display_name": "Python 3",
   "language": "python",
   "name": "python3"
  },
  "language_info": {
   "codemirror_mode": {
    "name": "ipython",
    "version": 3
   },
   "file_extension": ".py",
   "mimetype": "text/x-python",
   "name": "python",
   "nbconvert_exporter": "python",
   "pygments_lexer": "ipython3",
   "version": "3.6.6"
  }
 },
 "nbformat": 4,
 "nbformat_minor": 2
}
